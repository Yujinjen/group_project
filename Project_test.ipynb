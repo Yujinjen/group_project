{
 "cells": [
  {
   "cell_type": "code",
   "execution_count": 1,
   "metadata": {},
   "outputs": [
    {
     "name": "stderr",
     "output_type": "stream",
     "text": [
      "── \u001b[1mAttaching packages\u001b[22m ─────────────────────────────────────── tidyverse 1.3.0 ──\n",
      "\n",
      "\u001b[32m✔\u001b[39m \u001b[34mggplot2\u001b[39m 3.3.2     \u001b[32m✔\u001b[39m \u001b[34mpurrr  \u001b[39m 0.3.4\n",
      "\u001b[32m✔\u001b[39m \u001b[34mtibble \u001b[39m 3.0.3     \u001b[32m✔\u001b[39m \u001b[34mdplyr  \u001b[39m 1.0.2\n",
      "\u001b[32m✔\u001b[39m \u001b[34mtidyr  \u001b[39m 1.1.2     \u001b[32m✔\u001b[39m \u001b[34mstringr\u001b[39m 1.4.0\n",
      "\u001b[32m✔\u001b[39m \u001b[34mreadr  \u001b[39m 1.3.1     \u001b[32m✔\u001b[39m \u001b[34mforcats\u001b[39m 0.5.0\n",
      "\n",
      "Warning message:\n",
      "“package ‘ggplot2’ was built under R version 4.0.1”\n",
      "Warning message:\n",
      "“package ‘tibble’ was built under R version 4.0.2”\n",
      "Warning message:\n",
      "“package ‘tidyr’ was built under R version 4.0.2”\n",
      "Warning message:\n",
      "“package ‘dplyr’ was built under R version 4.0.2”\n",
      "── \u001b[1mConflicts\u001b[22m ────────────────────────────────────────── tidyverse_conflicts() ──\n",
      "\u001b[31m✖\u001b[39m \u001b[34mdplyr\u001b[39m::\u001b[32mfilter()\u001b[39m masks \u001b[34mstats\u001b[39m::filter()\n",
      "\u001b[31m✖\u001b[39m \u001b[34mdplyr\u001b[39m::\u001b[32mlag()\u001b[39m    masks \u001b[34mstats\u001b[39m::lag()\n",
      "\n",
      "Warning message:\n",
      "“package ‘tidymodels’ was built under R version 4.0.2”\n",
      "── \u001b[1mAttaching packages\u001b[22m ────────────────────────────────────── tidymodels 0.1.1 ──\n",
      "\n",
      "\u001b[32m✔\u001b[39m \u001b[34mbroom    \u001b[39m 0.7.0      \u001b[32m✔\u001b[39m \u001b[34mrecipes  \u001b[39m 0.1.13\n",
      "\u001b[32m✔\u001b[39m \u001b[34mdials    \u001b[39m 0.0.9      \u001b[32m✔\u001b[39m \u001b[34mrsample  \u001b[39m 0.0.7 \n",
      "\u001b[32m✔\u001b[39m \u001b[34minfer    \u001b[39m 0.5.4      \u001b[32m✔\u001b[39m \u001b[34mtune     \u001b[39m 0.1.1 \n",
      "\u001b[32m✔\u001b[39m \u001b[34mmodeldata\u001b[39m 0.0.2      \u001b[32m✔\u001b[39m \u001b[34mworkflows\u001b[39m 0.2.0 \n",
      "\u001b[32m✔\u001b[39m \u001b[34mparsnip  \u001b[39m 0.1.3      \u001b[32m✔\u001b[39m \u001b[34myardstick\u001b[39m 0.0.7 \n",
      "\n",
      "Warning message:\n",
      "“package ‘broom’ was built under R version 4.0.2”\n",
      "Warning message:\n",
      "“package ‘dials’ was built under R version 4.0.2”\n",
      "Warning message:\n",
      "“package ‘infer’ was built under R version 4.0.3”\n",
      "Warning message:\n",
      "“package ‘modeldata’ was built under R version 4.0.1”\n",
      "Warning message:\n",
      "“package ‘parsnip’ was built under R version 4.0.2”\n",
      "Warning message:\n",
      "“package ‘recipes’ was built under R version 4.0.1”\n",
      "Warning message:\n",
      "“package ‘tune’ was built under R version 4.0.2”\n",
      "Warning message:\n",
      "“package ‘workflows’ was built under R version 4.0.2”\n",
      "Warning message:\n",
      "“package ‘yardstick’ was built under R version 4.0.2”\n",
      "── \u001b[1mConflicts\u001b[22m ───────────────────────────────────────── tidymodels_conflicts() ──\n",
      "\u001b[31m✖\u001b[39m \u001b[34mscales\u001b[39m::\u001b[32mdiscard()\u001b[39m masks \u001b[34mpurrr\u001b[39m::discard()\n",
      "\u001b[31m✖\u001b[39m \u001b[34mdplyr\u001b[39m::\u001b[32mfilter()\u001b[39m   masks \u001b[34mstats\u001b[39m::filter()\n",
      "\u001b[31m✖\u001b[39m \u001b[34mrecipes\u001b[39m::\u001b[32mfixed()\u001b[39m  masks \u001b[34mstringr\u001b[39m::fixed()\n",
      "\u001b[31m✖\u001b[39m \u001b[34mdplyr\u001b[39m::\u001b[32mlag()\u001b[39m      masks \u001b[34mstats\u001b[39m::lag()\n",
      "\u001b[31m✖\u001b[39m \u001b[34myardstick\u001b[39m::\u001b[32mspec()\u001b[39m masks \u001b[34mreadr\u001b[39m::spec()\n",
      "\u001b[31m✖\u001b[39m \u001b[34mrecipes\u001b[39m::\u001b[32mstep()\u001b[39m   masks \u001b[34mstats\u001b[39m::step()\n",
      "\n",
      "Registered S3 method overwritten by 'GGally':\n",
      "  method from   \n",
      "  +.gg   ggplot2\n",
      "\n",
      "Warning message:\n",
      "“package ‘cowplot’ was built under R version 4.0.3”\n"
     ]
    }
   ],
   "source": [
    "set.seed(1234) #set seed\n",
    "\n",
    "#loading libraries\n",
    "library(tidyverse)\n",
    "library(repr)\n",
    "library(tidymodels)\n",
    "library(GGally)\n",
    "library(cowplot)\n",
    "library(modeldata)"
   ]
  },
  {
   "cell_type": "code",
   "execution_count": 2,
   "metadata": {},
   "outputs": [
    {
     "name": "stderr",
     "output_type": "stream",
     "text": [
      "Parsed with column specification:\n",
      "cols(\n",
      "  age = \u001b[32mcol_double()\u001b[39m,\n",
      "  sex = \u001b[32mcol_double()\u001b[39m,\n",
      "  cp = \u001b[32mcol_double()\u001b[39m,\n",
      "  trestbps = \u001b[32mcol_double()\u001b[39m,\n",
      "  chol = \u001b[32mcol_double()\u001b[39m,\n",
      "  fbs = \u001b[32mcol_double()\u001b[39m,\n",
      "  restecg = \u001b[32mcol_double()\u001b[39m,\n",
      "  thalach = \u001b[32mcol_double()\u001b[39m,\n",
      "  exang = \u001b[32mcol_double()\u001b[39m,\n",
      "  oldpeak = \u001b[32mcol_double()\u001b[39m,\n",
      "  slope = \u001b[32mcol_double()\u001b[39m,\n",
      "  ca = \u001b[31mcol_character()\u001b[39m,\n",
      "  thal = \u001b[31mcol_character()\u001b[39m,\n",
      "  diag = \u001b[32mcol_double()\u001b[39m\n",
      ")\n",
      "\n"
     ]
    },
    {
     "data": {
      "text/html": [
       "<table>\n",
       "<caption>A tibble: 6 × 14</caption>\n",
       "<thead>\n",
       "\t<tr><th scope=col>age</th><th scope=col>sex</th><th scope=col>cp</th><th scope=col>trestbps</th><th scope=col>chol</th><th scope=col>fbs</th><th scope=col>restecg</th><th scope=col>thalach</th><th scope=col>exang</th><th scope=col>oldpeak</th><th scope=col>slope</th><th scope=col>ca</th><th scope=col>thal</th><th scope=col>diag</th></tr>\n",
       "\t<tr><th scope=col>&lt;dbl&gt;</th><th scope=col>&lt;dbl&gt;</th><th scope=col>&lt;dbl&gt;</th><th scope=col>&lt;dbl&gt;</th><th scope=col>&lt;dbl&gt;</th><th scope=col>&lt;dbl&gt;</th><th scope=col>&lt;dbl&gt;</th><th scope=col>&lt;dbl&gt;</th><th scope=col>&lt;dbl&gt;</th><th scope=col>&lt;dbl&gt;</th><th scope=col>&lt;dbl&gt;</th><th scope=col>&lt;chr&gt;</th><th scope=col>&lt;chr&gt;</th><th scope=col>&lt;dbl&gt;</th></tr>\n",
       "</thead>\n",
       "<tbody>\n",
       "\t<tr><td>63</td><td>1</td><td>1</td><td>145</td><td>233</td><td>1</td><td>2</td><td>150</td><td>0</td><td>2.3</td><td>3</td><td>0.0</td><td>6.0</td><td>0</td></tr>\n",
       "\t<tr><td>67</td><td>1</td><td>4</td><td>160</td><td>286</td><td>0</td><td>2</td><td>108</td><td>1</td><td>1.5</td><td>2</td><td>3.0</td><td>3.0</td><td>2</td></tr>\n",
       "\t<tr><td>67</td><td>1</td><td>4</td><td>120</td><td>229</td><td>0</td><td>2</td><td>129</td><td>1</td><td>2.6</td><td>2</td><td>2.0</td><td>7.0</td><td>1</td></tr>\n",
       "\t<tr><td>37</td><td>1</td><td>3</td><td>130</td><td>250</td><td>0</td><td>0</td><td>187</td><td>0</td><td>3.5</td><td>3</td><td>0.0</td><td>3.0</td><td>0</td></tr>\n",
       "\t<tr><td>41</td><td>0</td><td>2</td><td>130</td><td>204</td><td>0</td><td>2</td><td>172</td><td>0</td><td>1.4</td><td>1</td><td>0.0</td><td>3.0</td><td>0</td></tr>\n",
       "\t<tr><td>56</td><td>1</td><td>2</td><td>120</td><td>236</td><td>0</td><td>0</td><td>178</td><td>0</td><td>0.8</td><td>1</td><td>0.0</td><td>3.0</td><td>0</td></tr>\n",
       "</tbody>\n",
       "</table>\n"
      ],
      "text/latex": [
       "A tibble: 6 × 14\n",
       "\\begin{tabular}{llllllllllllll}\n",
       " age & sex & cp & trestbps & chol & fbs & restecg & thalach & exang & oldpeak & slope & ca & thal & diag\\\\\n",
       " <dbl> & <dbl> & <dbl> & <dbl> & <dbl> & <dbl> & <dbl> & <dbl> & <dbl> & <dbl> & <dbl> & <chr> & <chr> & <dbl>\\\\\n",
       "\\hline\n",
       "\t 63 & 1 & 1 & 145 & 233 & 1 & 2 & 150 & 0 & 2.3 & 3 & 0.0 & 6.0 & 0\\\\\n",
       "\t 67 & 1 & 4 & 160 & 286 & 0 & 2 & 108 & 1 & 1.5 & 2 & 3.0 & 3.0 & 2\\\\\n",
       "\t 67 & 1 & 4 & 120 & 229 & 0 & 2 & 129 & 1 & 2.6 & 2 & 2.0 & 7.0 & 1\\\\\n",
       "\t 37 & 1 & 3 & 130 & 250 & 0 & 0 & 187 & 0 & 3.5 & 3 & 0.0 & 3.0 & 0\\\\\n",
       "\t 41 & 0 & 2 & 130 & 204 & 0 & 2 & 172 & 0 & 1.4 & 1 & 0.0 & 3.0 & 0\\\\\n",
       "\t 56 & 1 & 2 & 120 & 236 & 0 & 0 & 178 & 0 & 0.8 & 1 & 0.0 & 3.0 & 0\\\\\n",
       "\\end{tabular}\n"
      ],
      "text/markdown": [
       "\n",
       "A tibble: 6 × 14\n",
       "\n",
       "| age &lt;dbl&gt; | sex &lt;dbl&gt; | cp &lt;dbl&gt; | trestbps &lt;dbl&gt; | chol &lt;dbl&gt; | fbs &lt;dbl&gt; | restecg &lt;dbl&gt; | thalach &lt;dbl&gt; | exang &lt;dbl&gt; | oldpeak &lt;dbl&gt; | slope &lt;dbl&gt; | ca &lt;chr&gt; | thal &lt;chr&gt; | diag &lt;dbl&gt; |\n",
       "|---|---|---|---|---|---|---|---|---|---|---|---|---|---|\n",
       "| 63 | 1 | 1 | 145 | 233 | 1 | 2 | 150 | 0 | 2.3 | 3 | 0.0 | 6.0 | 0 |\n",
       "| 67 | 1 | 4 | 160 | 286 | 0 | 2 | 108 | 1 | 1.5 | 2 | 3.0 | 3.0 | 2 |\n",
       "| 67 | 1 | 4 | 120 | 229 | 0 | 2 | 129 | 1 | 2.6 | 2 | 2.0 | 7.0 | 1 |\n",
       "| 37 | 1 | 3 | 130 | 250 | 0 | 0 | 187 | 0 | 3.5 | 3 | 0.0 | 3.0 | 0 |\n",
       "| 41 | 0 | 2 | 130 | 204 | 0 | 2 | 172 | 0 | 1.4 | 1 | 0.0 | 3.0 | 0 |\n",
       "| 56 | 1 | 2 | 120 | 236 | 0 | 0 | 178 | 0 | 0.8 | 1 | 0.0 | 3.0 | 0 |\n",
       "\n"
      ],
      "text/plain": [
       "  age sex cp trestbps chol fbs restecg thalach exang oldpeak slope ca  thal\n",
       "1 63  1   1  145      233  1   2       150     0     2.3     3     0.0 6.0 \n",
       "2 67  1   4  160      286  0   2       108     1     1.5     2     3.0 3.0 \n",
       "3 67  1   4  120      229  0   2       129     1     2.6     2     2.0 7.0 \n",
       "4 37  1   3  130      250  0   0       187     0     3.5     3     0.0 3.0 \n",
       "5 41  0   2  130      204  0   2       172     0     1.4     1     0.0 3.0 \n",
       "6 56  1   2  120      236  0   0       178     0     0.8     1     0.0 3.0 \n",
       "  diag\n",
       "1 0   \n",
       "2 2   \n",
       "3 1   \n",
       "4 0   \n",
       "5 0   \n",
       "6 0   "
      ]
     },
     "metadata": {},
     "output_type": "display_data"
    }
   ],
   "source": [
    "# loading cleaveland dataset\n",
    "# column names were chosen based on the existing column names in dataset\n",
    "# except for num, which was changed to diag, short for diagnosis\n",
    "\n",
    "cleveland_data<-read_csv(\"https://archive.ics.uci.edu/ml/machine-learning-databases/heart-disease/processed.cleveland.data\",\n",
    "         col_names=c(\"age\",\"sex\",\"cp\",\"trestbps\",\"chol\",\"fbs\",\"restecg\",\"thalach\",\"exang\",\"oldpeak\",\"slope\",\"ca\",\"thal\",\"diag\")) \n",
    "head(cleveland_data)"
   ]
  },
  {
   "cell_type": "code",
   "execution_count": 3,
   "metadata": {},
   "outputs": [
    {
     "data": {
      "text/html": [
       "<table>\n",
       "<caption>A tibble: 6 × 6</caption>\n",
       "<thead>\n",
       "\t<tr><th scope=col>age</th><th scope=col>trestbps</th><th scope=col>thalach</th><th scope=col>chol</th><th scope=col>oldpeak</th><th scope=col>diag</th></tr>\n",
       "\t<tr><th scope=col>&lt;dbl&gt;</th><th scope=col>&lt;dbl&gt;</th><th scope=col>&lt;dbl&gt;</th><th scope=col>&lt;dbl&gt;</th><th scope=col>&lt;dbl&gt;</th><th scope=col>&lt;fct&gt;</th></tr>\n",
       "</thead>\n",
       "<tbody>\n",
       "\t<tr><td>63</td><td>145</td><td>150</td><td>233</td><td>2.3</td><td>0</td></tr>\n",
       "\t<tr><td>67</td><td>120</td><td>129</td><td>229</td><td>2.6</td><td>1</td></tr>\n",
       "\t<tr><td>37</td><td>130</td><td>187</td><td>250</td><td>3.5</td><td>0</td></tr>\n",
       "\t<tr><td>41</td><td>130</td><td>172</td><td>204</td><td>1.4</td><td>0</td></tr>\n",
       "\t<tr><td>56</td><td>120</td><td>178</td><td>236</td><td>0.8</td><td>0</td></tr>\n",
       "\t<tr><td>57</td><td>120</td><td>163</td><td>354</td><td>0.6</td><td>0</td></tr>\n",
       "</tbody>\n",
       "</table>\n"
      ],
      "text/latex": [
       "A tibble: 6 × 6\n",
       "\\begin{tabular}{llllll}\n",
       " age & trestbps & thalach & chol & oldpeak & diag\\\\\n",
       " <dbl> & <dbl> & <dbl> & <dbl> & <dbl> & <fct>\\\\\n",
       "\\hline\n",
       "\t 63 & 145 & 150 & 233 & 2.3 & 0\\\\\n",
       "\t 67 & 120 & 129 & 229 & 2.6 & 1\\\\\n",
       "\t 37 & 130 & 187 & 250 & 3.5 & 0\\\\\n",
       "\t 41 & 130 & 172 & 204 & 1.4 & 0\\\\\n",
       "\t 56 & 120 & 178 & 236 & 0.8 & 0\\\\\n",
       "\t 57 & 120 & 163 & 354 & 0.6 & 0\\\\\n",
       "\\end{tabular}\n"
      ],
      "text/markdown": [
       "\n",
       "A tibble: 6 × 6\n",
       "\n",
       "| age &lt;dbl&gt; | trestbps &lt;dbl&gt; | thalach &lt;dbl&gt; | chol &lt;dbl&gt; | oldpeak &lt;dbl&gt; | diag &lt;fct&gt; |\n",
       "|---|---|---|---|---|---|\n",
       "| 63 | 145 | 150 | 233 | 2.3 | 0 |\n",
       "| 67 | 120 | 129 | 229 | 2.6 | 1 |\n",
       "| 37 | 130 | 187 | 250 | 3.5 | 0 |\n",
       "| 41 | 130 | 172 | 204 | 1.4 | 0 |\n",
       "| 56 | 120 | 178 | 236 | 0.8 | 0 |\n",
       "| 57 | 120 | 163 | 354 | 0.6 | 0 |\n",
       "\n"
      ],
      "text/plain": [
       "  age trestbps thalach chol oldpeak diag\n",
       "1 63  145      150     233  2.3     0   \n",
       "2 67  120      129     229  2.6     1   \n",
       "3 37  130      187     250  3.5     0   \n",
       "4 41  130      172     204  1.4     0   \n",
       "5 56  120      178     236  0.8     0   \n",
       "6 57  120      163     354  0.6     0   "
      ]
     },
     "metadata": {},
     "output_type": "display_data"
    }
   ],
   "source": [
    "cleveland_filtered_data <- cleveland_data %>%\n",
    "                    select(age,trestbps,thalach,chol,oldpeak,diag)%>% #selected the categories decided on (explained below)\n",
    "                    filter(diag==0|diag==1) %>% #only selected diag values of 0 and 1; values 2-4 were found originally but dataset didn't say what those values meant\n",
    "                    mutate(diag = as.factor(diag)) %>% #changed diag (target variable) from double -> factor\n",
    "                    filter(!is.na(age), !is.na(trestbps), !is.na(thalach), !is.na(chol), !is.na(oldpeak), !is.na(diag)) #if any NA's in each column, removes them\n",
    "\n",
    "head(cleveland_filtered_data)"
   ]
  },
  {
   "cell_type": "code",
   "execution_count": 4,
   "metadata": {},
   "outputs": [],
   "source": [
    "set.seed(1234)\n",
    "cleveland_split<-initial_split(cleveland_filtered_data,prop=0.75,strata=diag)  #splitting cleveland's data \n",
    "cleveland_training<-training(cleveland_split)\n",
    "cleveland_testing<-testing(cleveland_split)"
   ]
  },
  {
   "cell_type": "code",
   "execution_count": 22,
   "metadata": {},
   "outputs": [],
   "source": [
    "set.seed(1234)\n",
    "\n",
    "#split 1\n",
    "split_1 <- initial_split(cleveland_filtered_data, strata=diag, prop=0.8)\n",
    "part_1 <- testing(split_1)\n",
    "\n",
    "#split 2\n",
    "split_2 <- initial_split(training(split_1), strata=diag, prop=0.75)\n",
    "part_2 <- testing(split_2)\n",
    "\n",
    "#split 3\n",
    "split_3 <- initial_split(training(split_2), strata=diag, prop=2/3)\n",
    "part_3 <- testing(split_3)\n",
    "\n",
    "#split 4\n",
    "split_4 <- initial_split(training(split_3), strata=diag, prop=0.5)\n",
    "part_4 <- testing(split_4)\n",
    "\n",
    "#split 5\n",
    "part_5 <- training(split_4)\n",
    "\n",
    "#combining 4 to make \"training\" and leaving 1 for validation\n",
    "train_1 <- rbind(part_1, part_2, part_3, part_4)\n",
    "val_1 <- part_5\n",
    "\n",
    "train_2 <- rbind(part_1, part_2, part_3, part_5)\n",
    "val_2 <- part_4\n",
    "\n",
    "train_3 <- rbind(part_1, part_2, part_5, part_4)\n",
    "val_3 <- part_3\n",
    "\n",
    "train_4 <- rbind(part_1, part_5, part_3, part_4)\n",
    "val_4 <- part_2\n",
    "\n",
    "train_5 <- rbind(part_5, part_2, part_3, part_4)\n",
    "val_5 <- part_1"
   ]
  },
  {
   "cell_type": "code",
   "execution_count": 55,
   "metadata": {},
   "outputs": [],
   "source": [
    "knn_4 <- nearest_neighbor(weight_func = \"rectangular\", neighbors=4) %>%\n",
    "    set_engine(\"kknn\") %>%\n",
    "    set_mode(\"classification\")\n",
    "\n",
    "# knn_tune <- nearest_neighbor(weight_func = \"rectangular\", neighbors=tune()) %>%\n",
    "#   set_engine(\"kknn\") %>%\n",
    "#   set_mode(\"classification\")\n",
    "\n",
    "# grid_vals <- tibble(neighbors = seq(from = 1, to = 20))"
   ]
  },
  {
   "cell_type": "code",
   "execution_count": 66,
   "metadata": {},
   "outputs": [],
   "source": [
    "set.seed(1234)\n",
    "\n",
    "#upsampling 1\n",
    "#repeated for all train_n and val_n\n",
    "upsample_recipe_1 <- recipe(diag ~ age + trestbps + chol + thalach + oldpeak, data = train_1) %>%\n",
    "    step_upsample(diag, over_ratio = 1, skip = TRUE) %>%\n",
    "    step_scale(all_predictors()) %>%\n",
    "    step_center(all_predictors())\n",
    "\n",
    "knn_fit_1 <- workflow() %>%\n",
    "     add_recipe(upsample_recipe_1) %>%\n",
    "     add_model(knn_4) %>%\n",
    "     fit(data=train_1)\n",
    "\n",
    "predict_1 <- predict(knn_fit_1, val_1) %>%\n",
    "    bind_cols(val_1)\n",
    "\n",
    "accuracies_1 <- predict_1 %>% \n",
    "     metrics(truth = diag, estimate = .pred_class) %>%\n",
    "     filter(.metric == \"accuracy\")"
   ]
  },
  {
   "cell_type": "code",
   "execution_count": 67,
   "metadata": {},
   "outputs": [],
   "source": [
    "set.seed(1234)\n",
    "\n",
    "#upsampling 2\n",
    "upsample_recipe_2 <- recipe(diag ~ age + trestbps + chol + thalach + oldpeak, data = train_2) %>%\n",
    "    step_upsample(diag, over_ratio = 1, skip = TRUE) %>%\n",
    "    step_scale(all_predictors()) %>%\n",
    "    step_center(all_predictors())\n",
    "\n",
    "upsample_vfold_2 <- vfold_cv(train_2, v = 5, strata = diag)\n",
    "\n",
    "knn_fit_2 <- workflow() %>%\n",
    "     add_recipe(upsample_recipe_2) %>%\n",
    "     add_model(knn_4) %>%\n",
    "     fit(data=train_2)\n",
    "\n",
    "predict_2 <- predict(knn_fit_2, val_2) %>%\n",
    "    bind_cols(val_2)\n",
    "\n",
    "accuracies_2 <- predict_2 %>% \n",
    "     metrics(truth = diag, estimate = .pred_class) %>%\n",
    "     filter(.metric == \"accuracy\")"
   ]
  },
  {
   "cell_type": "code",
   "execution_count": 68,
   "metadata": {},
   "outputs": [],
   "source": [
    "set.seed(1234)\n",
    "\n",
    "#upsampling 3\n",
    "upsample_recipe_3 <- recipe(diag ~ age + trestbps + chol + thalach + oldpeak, data = train_3) %>%\n",
    "    step_upsample(diag, over_ratio = 1, skip = TRUE) %>%\n",
    "    step_scale(all_predictors()) %>%\n",
    "    step_center(all_predictors())\n",
    "\n",
    "upsample_vfold_3 <- vfold_cv(train_3, v = 5, strata = diag)\n",
    "\n",
    "knn_fit_3 <- workflow() %>%\n",
    "     add_recipe(upsample_recipe_3) %>%\n",
    "     add_model(knn_4) %>%\n",
    "     fit(data=train_3)\n",
    "\n",
    "predict_3 <- predict(knn_fit_3, val_3) %>%\n",
    "    bind_cols(val_3)\n",
    "\n",
    "accuracies_3 <- predict_3 %>% \n",
    "     metrics(truth = diag, estimate = .pred_class) %>%\n",
    "     filter(.metric == \"accuracy\")"
   ]
  },
  {
   "cell_type": "code",
   "execution_count": 69,
   "metadata": {},
   "outputs": [],
   "source": [
    "set.seed(1234)\n",
    "\n",
    "#upsampling 4\n",
    "upsample_recipe_4 <- recipe(diag ~ age + trestbps + chol + thalach + oldpeak, data = train_4) %>%\n",
    "    step_upsample(diag, over_ratio = 1, skip = TRUE) %>%\n",
    "    step_scale(all_predictors()) %>%\n",
    "    step_center(all_predictors())\n",
    "\n",
    "upsample_vfold_4 <- vfold_cv(train_4, v = 5, strata = diag)\n",
    "\n",
    "knn_fit_4 <- workflow() %>%\n",
    "     add_recipe(upsample_recipe_4) %>%\n",
    "     add_model(knn_4) %>%\n",
    "     fit(data=train_4)\n",
    "\n",
    "predict_4 <- predict(knn_fit_4, val_4) %>%\n",
    "    bind_cols(val_4)\n",
    "\n",
    "accuracies_4 <- predict_4 %>% \n",
    "     metrics(truth = diag, estimate = .pred_class) %>%\n",
    "     filter(.metric == \"accuracy\")"
   ]
  },
  {
   "cell_type": "code",
   "execution_count": 72,
   "metadata": {},
   "outputs": [],
   "source": [
    "set.seed(1234)\n",
    "\n",
    "#upsampling 5\n",
    "upsample_recipe_5 <- recipe(diag ~ age + trestbps + chol + thalach + oldpeak, data = train_5) %>%\n",
    "    step_upsample(diag, over_ratio = 1, skip = TRUE) %>%\n",
    "    step_scale(all_predictors()) %>%\n",
    "    step_center(all_predictors())\n",
    "\n",
    "upsample_vfold_5 <- vfold_cv(train_5, v = 5, strata = diag)\n",
    "\n",
    "knn_fit_5 <- workflow() %>%\n",
    "     add_recipe(upsample_recipe_5) %>%\n",
    "     add_model(knn_4) %>%\n",
    "     fit(data=train_5)\n",
    "\n",
    "predict_5 <- predict(knn_fit_5, val_5) %>%\n",
    "    bind_cols(val_5)\n",
    "\n",
    "accuracies_5 <- predict_5 %>% \n",
    "     metrics(truth = diag, estimate = .pred_class) %>%\n",
    "     filter(.metric == \"accuracy\")"
   ]
  },
  {
   "cell_type": "code",
   "execution_count": 74,
   "metadata": {},
   "outputs": [
    {
     "data": {
      "text/html": [
       "<table>\n",
       "<caption>A tibble: 1 × 1</caption>\n",
       "<thead>\n",
       "\t<tr><th scope=col>mean</th></tr>\n",
       "\t<tr><th scope=col>&lt;dbl&gt;</th></tr>\n",
       "</thead>\n",
       "<tbody>\n",
       "\t<tr><td>0.5761472</td></tr>\n",
       "</tbody>\n",
       "</table>\n"
      ],
      "text/latex": [
       "A tibble: 1 × 1\n",
       "\\begin{tabular}{l}\n",
       " mean\\\\\n",
       " <dbl>\\\\\n",
       "\\hline\n",
       "\t 0.5761472\\\\\n",
       "\\end{tabular}\n"
      ],
      "text/markdown": [
       "\n",
       "A tibble: 1 × 1\n",
       "\n",
       "| mean &lt;dbl&gt; |\n",
       "|---|\n",
       "| 0.5761472 |\n",
       "\n"
      ],
      "text/plain": [
       "  mean     \n",
       "1 0.5761472"
      ]
     },
     "metadata": {},
     "output_type": "display_data"
    }
   ],
   "source": [
    "#calculating averages for all k's\n",
    "\n",
    "accuracy_all <- rbind(accuracies_1, accuracies_2, accuracies_3, accuracies_4, accuracies_5)\n",
    "accuracy_k <- accuracy_all %>%\n",
    "                summarize(mean = mean(.estimate))\n",
    "\n",
    "accuracy_k"
   ]
  },
  {
   "cell_type": "code",
   "execution_count": 112,
   "metadata": {},
   "outputs": [
    {
     "data": {
      "image/png": "[encoded data removed]",
      "text/plain": [
       "plot without title"
      ]
     },
     "metadata": {
      "image/png": {
       "height": 600,
       "width": 900
      }
     },
     "output_type": "display_data"
    }
   ],
   "source": [
    "options(repr.plot.width=15, repr.plot.height=10) \n",
    "confusion_matrix_1 <- conf_mat(predict_1, truth = diag, estimate = .pred_class)\n",
    "confusion_matrix_1a <- autoplot(confusion_matrix_1, type = \"heatmap\") + theme(text = element_text(size = 15)) + \n",
    "    ggtitle(\"Confusion Matrix for Training/Val 1\") +\n",
    "    geom_text(aes(label = Freq), size=10)\n",
    "\n",
    "confusion_matrix_2 <- conf_mat(predict_2, truth = diag, estimate = .pred_class)\n",
    "confusion_matrix_2a <- autoplot(confusion_matrix_2, type = \"heatmap\") + theme(text = element_text(size = 15)) + \n",
    "    ggtitle(\"Confusion Matrix for Training/Val 2\") +\n",
    "    geom_text(aes(label = Freq), size=10)\n",
    "\n",
    "confusion_matrix_3 <- conf_mat(predict_3, truth = diag, estimate = .pred_class)\n",
    "confusion_matrix_3a <- autoplot(confusion_matrix_3, type = \"heatmap\") + theme(text = element_text(size = 15)) + \n",
    "    ggtitle(\"Confusion Matrix for Training/Val 3\") +\n",
    "    geom_text(aes(label = Freq), size=10)\n",
    "\n",
    "confusion_matrix_4 <- conf_mat(predict_4, truth = diag, estimate = .pred_class)\n",
    "confusion_matrix_4a <- autoplot(confusion_matrix_4, type = \"heatmap\") + theme(text = element_text(size = 15)) + \n",
    "    ggtitle(\"Confusion Matrix for Training/Val 4\") +\n",
    "    geom_text(aes(label = Freq), size=10)\n",
    "\n",
    "confusion_matrix_5 <- conf_mat(predict_5, truth = diag, estimate = .pred_class)\n",
    "confusion_matrix_5a <- autoplot(confusion_matrix_5, type = \"heatmap\") + theme(text = element_text(size = 15)) + \n",
    "    ggtitle(\"Confusion Matrix for Training/Val 5\") +\n",
    "    geom_text(aes(label = Freq), size=10)\n",
    "\n",
    "plot_grid(confusion_matrix_1a, confusion_matrix_2a, confusion_matrix_3a, confusion_matrix_4a, confusion_matrix_5a, ncol=3)"
   ]
  },
  {
   "cell_type": "code",
   "execution_count": 54,
   "metadata": {},
   "outputs": [
    {
     "data": {
      "text/html": [
       "<table>\n",
       "<caption>A tibble: 1 × 3</caption>\n",
       "<thead>\n",
       "\t<tr><th scope=col>.metric</th><th scope=col>.estimator</th><th scope=col>.estimate</th></tr>\n",
       "\t<tr><th scope=col>&lt;chr&gt;</th><th scope=col>&lt;chr&gt;</th><th scope=col>&lt;dbl&gt;</th></tr>\n",
       "</thead>\n",
       "<tbody>\n",
       "\t<tr><td>accuracy</td><td>binary</td><td>0.7011494</td></tr>\n",
       "</tbody>\n",
       "</table>\n"
      ],
      "text/latex": [
       "A tibble: 1 × 3\n",
       "\\begin{tabular}{lll}\n",
       " .metric & .estimator & .estimate\\\\\n",
       " <chr> & <chr> & <dbl>\\\\\n",
       "\\hline\n",
       "\t accuracy & binary & 0.7011494\\\\\n",
       "\\end{tabular}\n"
      ],
      "text/markdown": [
       "\n",
       "A tibble: 1 × 3\n",
       "\n",
       "| .metric &lt;chr&gt; | .estimator &lt;chr&gt; | .estimate &lt;dbl&gt; |\n",
       "|---|---|---|\n",
       "| accuracy | binary | 0.7011494 |\n",
       "\n"
      ],
      "text/plain": [
       "  .metric  .estimator .estimate\n",
       "1 accuracy binary     0.7011494"
      ]
     },
     "metadata": {},
     "output_type": "display_data"
    }
   ],
   "source": [
    "knn_final <- 4\n",
    "knn_select <- nearest_neighbor(weight_func = \"rectangular\", neighbors=knn_final) %>%\n",
    "  set_engine(\"kknn\") %>%\n",
    "  set_mode(\"classification\")\n",
    "\n",
    "heart_disease_recipe_upscale <- recipe(diag ~ age + trestbps + thalach + chol + oldpeak, data = train_1) %>%\n",
    "    step_upsample(diag, over_ratio = 1, skip = TRUE) %>%\n",
    "    step_scale(all_predictors()) %>%\n",
    "    step_center(all_predictors()) %>%\n",
    "    prep()\n",
    "\n",
    "knn_fit <- workflow() %>%\n",
    "     add_recipe(heart_disease_recipe_upscale) %>%\n",
    "     add_model(knn_13) %>%\n",
    "     fit(data = train_1)\n",
    "\n",
    "pred <- predict(knn_fit, train_1) %>%\n",
    "    bind_cols(train_1)\n",
    "\n",
    "accuracy <- pred %>%\n",
    "    metrics(truth = diag, estimate = .pred_class) %>%\n",
    "    filter(.metric == \"accuracy\")\n"
   ]
  },
  {
   "cell_type": "code",
   "execution_count": null,
   "metadata": {},
   "outputs": [],
   "source": []
  }
 ],
 "metadata": {
  "kernelspec": {
   "display_name": "R",
   "language": "R",
   "name": "ir"
  },
  "language_info": {
   "codemirror_mode": "r",
   "file_extension": ".r",
   "mimetype": "text/x-r-source",
   "name": "R",
   "pygments_lexer": "r",
   "version": "4.0.0"
  }
 },
 "nbformat": 4,
 "nbformat_minor": 4
}
